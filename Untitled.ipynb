{
 "cells": [
  {
   "cell_type": "markdown",
   "id": "108dae31-d4c0-44a1-ac88-2f4f28b9ef7c",
   "metadata": {},
   "source": [
    "## Eligibility for loan"
   ]
  },
  {
   "cell_type": "code",
   "execution_count": 2,
   "id": "ec1bed8f-49b9-4718-91eb-f1977b04c054",
   "metadata": {},
   "outputs": [
    {
     "name": "stdin",
     "output_type": "stream",
     "text": [
      "Enter your age 19\n",
      "Enter your credit score 2800\n",
      "Enter your annual income $: 30000\n"
     ]
    },
    {
     "name": "stdout",
     "output_type": "stream",
     "text": [
      "You are eligible for loan\n"
     ]
    }
   ],
   "source": [
    "age = int(input(\"Enter your age\"))\n",
    "score = int(input(\"Enter your credit score\"))\n",
    "income = int(input(\"Enter your annual income $:\"))\n",
    "if age>=18:\n",
    "    if score >= 650 and score <700:\n",
    "        if income>=30000 and income>=25000:\n",
    "            print(\"You are eligible for loan\")\n",
    "        else:\n",
    "            print(\"Your income is not upto the mark\")\n",
    "    elif score >=700 and income >=2500:\n",
    "        print(\"You are eligible for loan\")\n",
    "    else:\n",
    "        print(\"Not eligible because your credit score is less\")\n",
    "else:\n",
    "    print(\"You are not eligible for loan\")"
   ]
  },
  {
   "cell_type": "markdown",
   "id": "145614a1-5950-4f16-b8a2-f9317d62767d",
   "metadata": {},
   "source": [
    "## Check Person is an adult"
   ]
  },
  {
   "cell_type": "code",
   "execution_count": 7,
   "id": "f3722d7a-343b-45ad-ac9f-408b8e7698ae",
   "metadata": {},
   "outputs": [
    {
     "name": "stdin",
     "output_type": "stream",
     "text": [
      "enter your age:  19\n"
     ]
    },
    {
     "name": "stdout",
     "output_type": "stream",
     "text": [
      "You are adult\n"
     ]
    },
    {
     "name": "stdin",
     "output_type": "stream",
     "text": [
      "Enter you experience in years:  10\n"
     ]
    },
    {
     "name": "stdout",
     "output_type": "stream",
     "text": [
      "You have alot of experince\n"
     ]
    }
   ],
   "source": [
    "age = int(input(\"enter your age: \"))\n",
    "if age<18:\n",
    "    print(\"You are underage\")\n",
    "elif (age>=18):\n",
    "    print(\"You are adult\")\n",
    "    experience = int(input(\"Enter you experience in years: \"))\n",
    "    if experience >= 10:\n",
    "        print(\"You have alot of experince\")\n",
    "    elif(experience >= 5 and experience <= 9):\n",
    "        print(\"You have moderate experience\")\n",
    "    elif(experience >= 2 and experience <= 4):\n",
    "        print(\"You have relatively new\")\n",
    "    else:\n",
    "        print(\"You are just starting now\")"
   ]
  },
  {
   "cell_type": "code",
   "execution_count": 9,
   "id": "baef5f47-901b-4f2f-831c-e19882ea286f",
   "metadata": {},
   "outputs": [
    {
     "name": "stdout",
     "output_type": "stream",
     "text": [
      "Memory address of a: 140732905302744\n",
      "Memory address of b: 140732905302744\n",
      "If they have the same memory address? True\n"
     ]
    }
   ],
   "source": [
    "#Q3a)\n",
    "a = 10\n",
    "b = 10\n",
    "print(\"Memory address of a:\", id(a))\n",
    "print(\"Memory address of b:\", id(b))\n",
    "print(\"If they have the same memory address?\", id(a) == id(b))"
   ]
  },
  {
   "cell_type": "code",
   "execution_count": 11,
   "id": "2fe087df-bfd8-4ca0-9cee-3a596fdde94c",
   "metadata": {},
   "outputs": [
    {
     "name": "stdout",
     "output_type": "stream",
     "text": [
      "Memory sizes of different data types:\n",
      "integer: 28 bytes\n",
      "float: 24 bytes\n",
      "string: 41 bytes\n",
      "list: 56 bytes\n",
      "tuple: 40 bytes\n",
      "set: 216 bytes\n",
      "dictionary: 64 bytes\n",
      "boolean: 28 bytes\n",
      "\n",
      "Data type with the least memory size: float (24 bytes)\n",
      "Data type with the least memory size: float\n"
     ]
    }
   ],
   "source": [
    "#3b\n",
    "import sys\n",
    "\n",
    "memory_sizes = []\n",
    "memory_sizes.append((\"integer\", sys.getsizeof(0)))\n",
    "memory_sizes.append((\"float\", sys.getsizeof(0.0)))\n",
    "memory_sizes.append((\"string\", sys.getsizeof(\"\")))\n",
    "memory_sizes.append((\"list\", sys.getsizeof([])))\n",
    "memory_sizes.append((\"tuple\", sys.getsizeof(())))\n",
    "memory_sizes.append((\"set\", sys.getsizeof(set())))\n",
    "memory_sizes.append((\"dictionary\", sys.getsizeof({})))\n",
    "memory_sizes.append((\"boolean\", sys.getsizeof(True)))\n",
    "least_memory = min(memory_sizes, key=lambda x: x[1])\n",
    "print(\"Memory sizes of different data types:\")\n",
    "for dtype, size in memory_sizes:\n",
    "    print(f\"{dtype}: {size} bytes\")\n",
    "\n",
    "print(f\"\\nData type with the least memory size: {least_memory[0]} ({least_memory[1]} bytes)\")\n",
    "#Q3c\n",
    "least_memory = min(memory_sizes, key=lambda x: x[1])\n",
    "print(f\"Data type with the least memory size: {least_memory[0]}\")"
   ]
  },
  {
   "cell_type": "code",
   "execution_count": 13,
   "id": "c7b8e741-bb8c-4497-a903-9248031889fc",
   "metadata": {},
   "outputs": [
    {
     "name": "stdin",
     "output_type": "stream",
     "text": [
      "Enter your email address ayeshabilal29129@gmail.com\n"
     ]
    },
    {
     "name": "stdout",
     "output_type": "stream",
     "text": [
      "Email format is valid\n"
     ]
    }
   ],
   "source": [
    "#Q4\n",
    "email_address = input(\"Enter your email address\")\n",
    "if (\"@\" in email_address and \".\" in email_address):\n",
    "    print(\"Email format is valid\")\n",
    "else:\n",
    "    print(\"Email format is invalid\")"
   ]
  },
  {
   "cell_type": "code",
   "execution_count": 15,
   "id": "75033adb-5bf2-4cb6-b9e5-d49d19646391",
   "metadata": {},
   "outputs": [
    {
     "name": "stdout",
     "output_type": "stream",
     "text": [
      "Data types of tuple elements: ['int', 'float', 'str', 'list', 'tuple']\n"
     ]
    }
   ],
   "source": [
    "#Q5\n",
    "x = (11,22.333,'apple',[1,2,3],('a','b'))\n",
    "data_types = []\n",
    "data_types.append(type(x[0]).__name__)\n",
    "data_types.append(type(x[1]).__name__)\n",
    "data_types.append(type(x[2]).__name__)\n",
    "data_types.append(type(x[3]).__name__)\n",
    "data_types.append(type(x[4]).__name__)\n",
    "print(\"Data types of tuple elements:\", data_types)"
   ]
  },
  {
   "cell_type": "code",
   "execution_count": 17,
   "id": "b7cb9e5b-05de-4a5b-9716-f7661b1cc989",
   "metadata": {},
   "outputs": [
    {
     "name": "stdin",
     "output_type": "stream",
     "text": [
      "Enter the username:  Anas\n"
     ]
    },
    {
     "name": "stdout",
     "output_type": "stream",
     "text": [
      "User Anas is active.\n",
      "User Anas is not the admin.\n"
     ]
    }
   ],
   "source": [
    "#Q6\n",
    "active_users = [\"Anas\", \"Ammad\", \"Rashid\", \"Faizan\", \"Hassan\", \"admin\"]\n",
    "username = input(\"Enter the username: \")\n",
    "\n",
    "if username in active_users:\n",
    "    print(\"User\" , username , \"is active.\")\n",
    "    if username == \"admin\":\n",
    "        print(\"User\" , username , \"is the admin.\")\n",
    "    else:\n",
    "        print(\"User\" , username , \"is not the admin.\")\n",
    "else:\n",
    "    print(\"User\" , username , \"is not an active user.\")"
   ]
  },
  {
   "cell_type": "code",
   "execution_count": 19,
   "id": "5e5ba5a1-8391-4173-885e-c602553795c0",
   "metadata": {},
   "outputs": [
    {
     "name": "stdout",
     "output_type": "stream",
     "text": [
      "2159086653504\n",
      "2159086653504\n",
      "2159086658176\n",
      "Siblings\n"
     ]
    }
   ],
   "source": [
    "#Q7\n",
    "person1 = ['father name','mother name','district','family number']\n",
    "person2 = person1\n",
    "person3 = ['father name','mother name','district','family number']\n",
    "print(id(person1))\n",
    "print(id(person2))\n",
    "print(id(person3))\n",
    "if person1 is person2:\n",
    "    print(\"Siblings\")\n",
    "elif person1 is person3:\n",
    "    print(\"Cousin\")\n",
    "else:\n",
    "    print(\"Error\")"
   ]
  },
  {
   "cell_type": "code",
   "execution_count": 21,
   "id": "9bcc91b5-e127-4404-886f-d51a2b1bc889",
   "metadata": {},
   "outputs": [
    {
     "name": "stdin",
     "output_type": "stream",
     "text": [
      "Enter the book's title:  python\n",
      "Enter the author's name:  Faiz Ali\n",
      "Enter the year of publication:  2005\n",
      "Enter the price of the book:  1500\n"
     ]
    },
    {
     "name": "stdout",
     "output_type": "stream",
     "text": [
      "Book Information:\n",
      "('python', 'Faiz Ali', '2005', 1500.0)\n"
     ]
    }
   ],
   "source": [
    "#Q8\n",
    "title = input(\"Enter the book's title: \")\n",
    "author = input(\"Enter the author's name: \")\n",
    "year = input(\"Enter the year of publication: \")\n",
    "price = float(input(\"Enter the price of the book: \"))\n",
    "book = (title, author, year, price)\n",
    "print(\"Book Information:\")\n",
    "print(book)"
   ]
  },
  {
   "cell_type": "code",
   "execution_count": 25,
   "id": "63e85027-d9e5-4f71-be32-e6bd5f425c23",
   "metadata": {},
   "outputs": [
    {
     "name": "stdin",
     "output_type": "stream",
     "text": [
      "Enter your subject:  Urdu\n"
     ]
    },
    {
     "name": "stdout",
     "output_type": "stream",
     "text": [
      "The Subject is available\n"
     ]
    }
   ],
   "source": [
    "#Q9\n",
    "List = [\"English\",\"Urdu\",\"Physics\",\"Chemistry\",\"Math\"]\n",
    "Subject = input(\"Enter your subject: \")\n",
    "if Subject in List:\n",
    "    print(\"The Subject is available\")\n",
    "else:\n",
    "    print(\"The Subject is not available\")"
   ]
  },
  {
   "cell_type": "code",
   "execution_count": 27,
   "id": "b4544b88-c972-45f4-8269-39da02728c30",
   "metadata": {},
   "outputs": [
    {
     "name": "stdin",
     "output_type": "stream",
     "text": [
      "Enter a number to find its first occurrence in the tuple:  10\n"
     ]
    },
    {
     "name": "stdout",
     "output_type": "stream",
     "text": [
      "The first occurrence of 10 is at index 0\n"
     ]
    },
    {
     "name": "stdin",
     "output_type": "stream",
     "text": [
      "Enter another number to count its occurrences in the tuple:  20\n"
     ]
    },
    {
     "name": "stdout",
     "output_type": "stream",
     "text": [
      "The number 20 appears 3 time(s) in the tuple.\n"
     ]
    }
   ],
   "source": [
    "#Q10\n",
    "numbers = (10, 20, 30, 20, 40, 20, 50)\n",
    "first_number = int(input(\"Enter a number to find its first occurrence in the tuple: \"))\n",
    "if first_number in numbers:\n",
    "    first_index = numbers.index(first_number)\n",
    "    print(\"The first occurrence of\" , first_number , \"is at index\" , first_index)\n",
    "else:\n",
    "    print(\"The number\" , first_number , \"is not in the tuple.\")\n",
    "second_number = int(input(\"Enter another number to count its occurrences in the tuple: \"))\n",
    "count = numbers.count(second_number)\n",
    "print(\"The number\" , second_number , \"appears\" , count , \"time(s) in the tuple.\")"
   ]
  },
  {
   "cell_type": "code",
   "execution_count": null,
   "id": "206de66c-67fe-47e7-aa21-072d53d6dec2",
   "metadata": {},
   "outputs": [],
   "source": []
  }
 ],
 "metadata": {
  "kernelspec": {
   "display_name": "Python 3 (ipykernel)",
   "language": "python",
   "name": "python3"
  },
  "language_info": {
   "codemirror_mode": {
    "name": "ipython",
    "version": 3
   },
   "file_extension": ".py",
   "mimetype": "text/x-python",
   "name": "python",
   "nbconvert_exporter": "python",
   "pygments_lexer": "ipython3",
   "version": "3.12.7"
  }
 },
 "nbformat": 4,
 "nbformat_minor": 5
}
